{
 "cells": [
  {
   "cell_type": "code",
   "execution_count": 83,
   "metadata": {
    "collapsed": false
   },
   "outputs": [],
   "source": [
    "using PyPlot, Distributions, Interact"
   ]
  },
  {
   "cell_type": "code",
   "execution_count": 55,
   "metadata": {
    "collapsed": false
   },
   "outputs": [
    {
     "data": {
      "text/plain": [
       "3.299434807899727"
      ]
     },
     "execution_count": 55,
     "metadata": {},
     "output_type": "execute_result"
    }
   ],
   "source": [
    "n=30\n",
    "t=5000\n",
    "l=10\n",
    "\n",
    "s=[(A=randn(n,n)/sqrt(n);\n",
    "  A[:,1]*=sqrt(l); \n",
    "  maximum(svdvals(A))) for i=1:t]\n",
    "mean(s)\n"
   ]
  },
  {
   "cell_type": "code",
   "execution_count": 60,
   "metadata": {
    "collapsed": false
   },
   "outputs": [
    {
     "data": {
      "text/plain": [
       "randspike (generic function with 2 methods)"
      ]
     },
     "execution_count": 60,
     "metadata": {},
     "output_type": "execute_result"
    }
   ],
   "source": [
    "function randspike(n;l=1) \n",
    "    d = [rand(Chi(j)) for j=n:-1:1]\n",
    "    d[1] *= √l\n",
    "    e = [rand(Chi(j)) for j=n-1:-1:1]\n",
    "    B = Bidiagonal(d,e, true )\n",
    "end"
   ]
  },
  {
   "cell_type": "code",
   "execution_count": 56,
   "metadata": {
    "collapsed": false
   },
   "outputs": [
    {
     "data": {
      "text/plain": [
       "3.305601200661152"
      ]
     },
     "execution_count": 56,
     "metadata": {},
     "output_type": "execute_result"
    }
   ],
   "source": [
    "s=[ (A=randspike(n,l);\n",
    "    maximum(svdvals(A)))/sqrt(n) for i=1:t]\n",
    "mean(s)"
   ]
  },
  {
   "cell_type": "code",
   "execution_count": 97,
   "metadata": {
    "collapsed": false
   },
   "outputs": [
    {
     "data": {
      "text/html": [],
      "text/plain": [
       "Interact.Slider{Int64}([Reactive.Input{Int64}] 5,\"l\",5,1:10)"
      ]
     },
     "metadata": {},
     "output_type": "display_data"
    },
    {
     "data": {
      "image/png": "[encoded data removed]",
      "text/plain": [
       "PyPlot.Figure(PyObject <matplotlib.figure.Figure object at 0x326fe1048>)"
      ]
     },
     "execution_count": 97,
     "metadata": {
      "comm_id": "988fa637-7c2d-40e5-8f92-11955b337916",
      "reactive": true
     },
     "output_type": "execute_result"
    }
   ],
   "source": [
    "t=10000\n",
    "f=figure()\n",
    "@manipulate  for l=1:10; withfig(f) do\n",
    " s=[ maximum(svdvals(randspike(n,l)))/sqrt(n) for i=1:t]/sqrt(n)\n",
    " r=[ maximum(svdvals(randspike(n)))/sqrt(n) for i=1:t]/sqrt(n)\n",
    "        plt[:hist](s,normed=true,30,color=\"r\",normed=true);\n",
    "        plt[:hist](r,normed=true,30,color=\"b\",normed=true);\n",
    "        axis([0,1,0,30])\n",
    "end\n",
    "end"
   ]
  },
  {
   "cell_type": "code",
   "execution_count": 36,
   "metadata": {
    "collapsed": false
   },
   "outputs": [
    {
     "data": {
      "text/plain": [
       "30x30 Bidiagonal{Float64}:\n",
       " 5.02531  6.10043  0.0      0.0      …  0.0      0.0      0.0      0.0     \n",
       " 0.0      4.36768  5.23673  0.0         0.0      0.0      0.0      0.0     \n",
       " 0.0      0.0      6.01603  5.39845     0.0      0.0      0.0      0.0     \n",
       " 0.0      0.0      0.0      4.94225     0.0      0.0      0.0      0.0     \n",
       " 0.0      0.0      0.0      0.0         0.0      0.0      0.0      0.0     \n",
       " 0.0      0.0      0.0      0.0      …  0.0      0.0      0.0      0.0     \n",
       " 0.0      0.0      0.0      0.0         0.0      0.0      0.0      0.0     \n",
       " 0.0      0.0      0.0      0.0         0.0      0.0      0.0      0.0     \n",
       " 0.0      0.0      0.0      0.0         0.0      0.0      0.0      0.0     \n",
       " 0.0      0.0      0.0      0.0         0.0      0.0      0.0      0.0     \n",
       " 0.0      0.0      0.0      0.0      …  0.0      0.0      0.0      0.0     \n",
       " 0.0      0.0      0.0      0.0         0.0      0.0      0.0      0.0     \n",
       " 0.0      0.0      0.0      0.0         0.0      0.0      0.0      0.0     \n",
       " ⋮                                   ⋱                                     \n",
       " 0.0      0.0      0.0      0.0         0.0      0.0      0.0      0.0     \n",
       " 0.0      0.0      0.0      0.0         0.0      0.0      0.0      0.0     \n",
       " 0.0      0.0      0.0      0.0      …  0.0      0.0      0.0      0.0     \n",
       " 0.0      0.0      0.0      0.0         0.0      0.0      0.0      0.0     \n",
       " 0.0      0.0      0.0      0.0         0.0      0.0      0.0      0.0     \n",
       " 0.0      0.0      0.0      0.0         0.0      0.0      0.0      0.0     \n",
       " 0.0      0.0      0.0      0.0         0.0      0.0      0.0      0.0     \n",
       " 0.0      0.0      0.0      0.0      …  2.85867  0.0      0.0      0.0     \n",
       " 0.0      0.0      0.0      0.0         1.2983   1.25997  0.0      0.0     \n",
       " 0.0      0.0      0.0      0.0         0.0      1.74875  1.78515  0.0     \n",
       " 0.0      0.0      0.0      0.0         0.0      0.0      1.92713  0.543952\n",
       " 0.0      0.0      0.0      0.0         0.0      0.0      0.0      0.072149"
      ]
     },
     "execution_count": 36,
     "metadata": {},
     "output_type": "execute_result"
    }
   ],
   "source": [
    "B=Bidiagonal([rand(Chi(j)) for j=n:-1:1], [rand(Chi(j)) for j=n-1:-1:1], true )"
   ]
  },
  {
   "cell_type": "code",
   "execution_count": 28,
   "metadata": {
    "collapsed": true
   },
   "outputs": [],
   "source": [
    "using Distributions"
   ]
  },
  {
   "cell_type": "code",
   "execution_count": 34,
   "metadata": {
    "collapsed": false
   },
   "outputs": [
    {
     "ename": "LoadError",
     "evalue": "LoadError: MethodError: `convert` has no method matching convert(::Type{Distributions.Chi}, ::Array{Int64,1})\nThis may have arisen from a call to the constructor Distributions.Chi(...),\nsince type constructors fall back to convert methods.\nClosest candidates are:\n  call{T}(::Type{T}, ::Any)\n  convert{T}(::Type{T}, !Matched::T)\n  Distributions.Chi(!Matched::Real)\nwhile loading In[34], in expression starting on line 1",
     "output_type": "error",
     "traceback": [
      "LoadError: MethodError: `convert` has no method matching convert(::Type{Distributions.Chi}, ::Array{Int64,1})\nThis may have arisen from a call to the constructor Distributions.Chi(...),\nsince type constructors fall back to convert methods.\nClosest candidates are:\n  call{T}(::Type{T}, ::Any)\n  convert{T}(::Type{T}, !Matched::T)\n  Distributions.Chi(!Matched::Real)\nwhile loading In[34], in expression starting on line 1",
      "",
      " in call at essentials.jl:56"
     ]
    }
   ],
   "source": [
    "rand(Chi([4;5]))"
   ]
  },
  {
   "cell_type": "code",
   "execution_count": null,
   "metadata": {
    "collapsed": true
   },
   "outputs": [],
   "source": []
  }
 ],
 "metadata": {
  "kernelspec": {
   "display_name": "Julia 0.4.0",
   "language": "julia",
   "name": "julia-0.4"
  },
  "language_info": {
   "file_extension": ".jl",
   "mimetype": "application/julia",
   "name": "julia",
   "version": "0.4.0"
  }
 },
 "nbformat": 4,
 "nbformat_minor": 0
}
